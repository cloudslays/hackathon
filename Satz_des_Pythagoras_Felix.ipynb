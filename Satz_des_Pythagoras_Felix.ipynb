{
  "nbformat": 4,
  "nbformat_minor": 0,
  "metadata": {
    "kernelspec": {
      "display_name": "Python 3",
      "language": "python",
      "name": "python3"
    },
    "language_info": {
      "codemirror_mode": {
        "name": "ipython",
        "version": 3
      },
      "file_extension": ".py",
      "mimetype": "text/x-python",
      "name": "python",
      "nbconvert_exporter": "python",
      "pygments_lexer": "ipython3",
      "version": "3.7.8"
    },
    "colab": {
      "name": "Satz_des_Pythagoras_Felix.ipynb",
      "provenance": [],
      "collapsed_sections": []
    }
  },
  "cells": [
    {
      "cell_type": "code",
      "metadata": {
        "colab": {
          "base_uri": "https://localhost:8080/"
        },
        "id": "16oe_S1PrHL2",
        "outputId": "bc54d927-8080-4657-d43b-9c67cad6e472"
      },
      "source": [
        "import math\n",
        "\n",
        "x = input('Was wird gesucht? Hypotenuse(H) oder Kathete(K)')\n",
        "if x == \"H\":\n",
        "    a = int(input('Welchen Wert hat \"a\"?.'))\n",
        "    b = int(input('Welchen Wert hat \"b\"?'))\n",
        "    c = (a**2 + b**2)\n",
        "    print('Die Hypotenuse ist', c)\n",
        "if x == \"K\":\n",
        "    ab = int(input('Welchen Wert hat \"a/b\"?.'))\n",
        "    c = int(input('Welchen Wert hat \"c\"?'))\n",
        "    ba = math.sqrt(c**2-ab**2)\n",
        "    print('Die gesuchte Kathete lautet', ba)"
      ],
      "execution_count": 5,
      "outputs": [
        {
          "output_type": "stream",
          "text": [
            "Was wird gesucht? Hypotenuse(H) oder Kathete(K)H\n",
            "Welchen Wert hat \"a\"?.4\n",
            "Welchen Wert hat \"b\"?5\n",
            "Die Hypotenuse ist 41\n"
          ],
          "name": "stdout"
        }
      ]
    }
  ]
}